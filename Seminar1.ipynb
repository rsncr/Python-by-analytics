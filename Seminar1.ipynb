{
 "cells": [
  {
   "cell_type": "markdown",
   "id": "0d0cb18f",
   "metadata": {},
   "source": [
    "# Python Jupyter. Practice 1"
   ]
  },
  {
   "cell_type": "code",
   "execution_count": 26,
   "id": "199875ca",
   "metadata": {},
   "outputs": [
    {
     "data": {
      "text/plain": [
       "'3.9.13'"
      ]
     },
     "execution_count": 26,
     "metadata": {},
     "output_type": "execute_result"
    }
   ],
   "source": [
    "import platform\n",
    "platform.python_version()"
   ]
  },
  {
   "cell_type": "markdown",
   "id": "d45b541e",
   "metadata": {},
   "source": [
    "## Задача 1\n",
    "### 1.1 Соедините 2 словаря в 1"
   ]
  },
  {
   "cell_type": "code",
   "execution_count": 17,
   "id": "dc5067cf",
   "metadata": {},
   "outputs": [
    {
     "name": "stdout",
     "output_type": "stream",
     "text": [
      "{'One': 1, 'Two': 2, 'Three': 3, 'Four': 4, 'Five': 5, 'Six': 6}\n"
     ]
    }
   ],
   "source": [
    "dict1 = {'One':1,'Two':2,'Three':3}\n",
    "dict2 = {'Four':4,'Five':5,'Six':6}\n",
    "alldict = dict1 | dict2\n",
    "print (alldict)"
   ]
  },
  {
   "cell_type": "code",
   "execution_count": 18,
   "id": "52964267",
   "metadata": {},
   "outputs": [
    {
     "data": {
      "text/plain": [
       "{'One': 1, 'Two': 2, 'Three': 3, 'Four': 4, 'Five': 5, 'Six': 6}"
      ]
     },
     "execution_count": 18,
     "metadata": {},
     "output_type": "execute_result"
    }
   ],
   "source": [
    "dict1.update(dict2)\n",
    "dict1"
   ]
  },
  {
   "cell_type": "markdown",
   "id": "f897d6ce",
   "metadata": {},
   "source": [
    "### 1.2 Напишите функцию принимающую на вход 2 словаря и возвращающую их сумму  "
   ]
  },
  {
   "cell_type": "code",
   "execution_count": 25,
   "id": "a45ab04e",
   "metadata": {},
   "outputs": [
    {
     "data": {
      "text/plain": [
       "{'One': 1, 'Two': 2, 'Three': 3, 'Four': 4, 'Five': 5, 'Six': 6}"
      ]
     },
     "execution_count": 25,
     "metadata": {},
     "output_type": "execute_result"
    }
   ],
   "source": [
    "from typing import List, Dict\n",
    "def sum (a:Dict, b:Dict) -> Dict:\n",
    "    return a|b\n",
    "sum (dict1, dict2)"
   ]
  },
  {
   "cell_type": "markdown",
   "id": "472a5f9e",
   "metadata": {},
   "source": [
    "## Напишите функцию, которая из двух списков делает один словарь, где элементы из первого списка - ключи, а из второго - значения\n",
    "\n",
    "### используете аннотирование типов\n",
    "\n",
    "### 2.1 Используя цикл for"
   ]
  },
  {
   "cell_type": "code",
   "execution_count": 27,
   "id": "79406ca7",
   "metadata": {},
   "outputs": [],
   "source": [
    "keys = ['One', 'Two', 'Three']\n",
    "values = [1, 2, 3]"
   ]
  },
  {
   "cell_type": "code",
   "execution_count": 39,
   "id": "1b4fd12e",
   "metadata": {},
   "outputs": [
    {
     "data": {
      "text/plain": [
       "{'One': 1, 'Two': 2, 'Three': 3}"
      ]
     },
     "execution_count": 39,
     "metadata": {},
     "output_type": "execute_result"
    }
   ],
   "source": [
    "def merge(keys:List, values:List) -> Dict:\n",
    "    D = {}\n",
    "    for i in range(len(keys)):\n",
    "        D[keys[i]] = values[i]\n",
    "    return D\n",
    "    \n",
    "merge(keys, values)"
   ]
  },
  {
   "cell_type": "markdown",
   "id": "dbf17f08",
   "metadata": {},
   "source": [
    "### 2.2 Используя dict comprehension"
   ]
  },
  {
   "cell_type": "code",
   "execution_count": 44,
   "id": "8fd031fb",
   "metadata": {},
   "outputs": [
    {
     "data": {
      "text/plain": [
       "{'One': 1, 'Two': 2, 'Three': 3}"
      ]
     },
     "execution_count": 44,
     "metadata": {},
     "output_type": "execute_result"
    }
   ],
   "source": [
    "def merge(keys, values):\n",
    "    return {keys[i]:values[i] for i in range(len(keys))}\n",
    "merge(keys, values)"
   ]
  },
  {
   "cell_type": "markdown",
   "id": "f8b99f5b",
   "metadata": {},
   "source": [
    "## 3 Извлеките только 2 ключа: name и age из представленного словаря, используйте аннотирование типов\n",
    "### 3.1 Напишите функцию с циклом for    "
   ]
  },
  {
   "cell_type": "code",
   "execution_count": 2,
   "id": "4356b2f8",
   "metadata": {},
   "outputs": [],
   "source": [
    "client_dict = {\n",
    "    \"name\": \"John\",\n",
    "    \"age\": \"25\",\n",
    "    \"salary\": 5000\n",
    "    \"city\": \"Moscow\"\n",
    "}"
   ]
  },
  {
   "cell_type": "code",
   "execution_count": null,
   "id": "d6dd75e8",
   "metadata": {},
   "outputs": [],
   "source": [
    "def choice(name, age):\n",
    "    "
   ]
  }
 ],
 "metadata": {
  "kernelspec": {
   "display_name": "Python 3.10.7 64-bit",
   "language": "python",
   "name": "python3"
  },
  "language_info": {
   "codemirror_mode": {
    "name": "ipython",
    "version": 3
   },
   "file_extension": ".py",
   "mimetype": "text/x-python",
   "name": "python",
   "nbconvert_exporter": "python",
   "pygments_lexer": "ipython3",
   "version": "3.10.7"
  },
  "vscode": {
   "interpreter": {
    "hash": "aee8b7b246df8f9039afb4144a1f6fd8d2ca17a180786b69acc140d282b71a49"
   }
  }
 },
 "nbformat": 4,
 "nbformat_minor": 5
}
