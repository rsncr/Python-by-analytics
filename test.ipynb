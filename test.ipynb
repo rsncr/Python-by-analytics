{
 "cells": [
  {
   "cell_type": "code",
   "execution_count": 9,
   "id": "95d14b0f",
   "metadata": {},
   "outputs": [
    {
     "name": "stdout",
     "output_type": "stream",
     "text": [
      "Hello, World!\n"
     ]
    }
   ],
   "source": [
    "print ('Hello, World!')"
   ]
  },
  {
   "cell_type": "code",
   "execution_count": null,
   "id": "6eb8ab9b",
   "metadata": {},
   "outputs": [],
   "source": []
  },
  {
   "cell_type": "raw",
   "id": "da07e70a",
   "metadata": {},
   "source": [
    "    <!-- ## Zalupa  -->"
   ]
  },
  {
   "cell_type": "code",
   "execution_count": 8,
   "id": "0f31284d",
   "metadata": {},
   "outputs": [
    {
     "data": {
      "text/plain": [
       "8"
      ]
     },
     "execution_count": 8,
     "metadata": {},
     "output_type": "execute_result"
    }
   ],
   "source": [
    "pow(2,3)"
   ]
  },
  {
   "cell_type": "raw",
   "id": "3d7f19ef",
   "metadata": {},
   "source": [
    "abs(2,3)\n",
    "abs(2,3)\n",
    "abs(2,3)"
   ]
  },
  {
   "cell_type": "raw",
   "id": "513d5487",
   "metadata": {},
   "source": [
    "##### d"
   ]
  },
  {
   "cell_type": "code",
   "execution_count": null,
   "id": "f9c3b944",
   "metadata": {},
   "outputs": [],
   "source": [
    "r"
   ]
  }
 ],
 "metadata": {
  "kernelspec": {
   "display_name": "Python 3 (ipykernel)",
   "language": "python",
   "name": "python3"
  },
  "language_info": {
   "codemirror_mode": {
    "name": "ipython",
    "version": 3
   },
   "file_extension": ".py",
   "mimetype": "text/x-python",
   "name": "python",
   "nbconvert_exporter": "python",
   "pygments_lexer": "ipython3",
   "version": "3.9.13"
  }
 },
 "nbformat": 4,
 "nbformat_minor": 5
}
